{
 "cells": [
  {
   "cell_type": "markdown",
   "metadata": {},
   "source": [
    "<font size = \"5\"> **Chapter 2: [Diffraction](Ch2-Diffraction.ipynb)** </font>\n",
    "\n",
    "\n",
    "<hr style=\"height:1px;border-top:4px solid #FF8200\" />\n",
    "\n",
    "\n",
    "\n",
    "# Introduction \n",
    "\n",
    "part of \n",
    "\n",
    "\n",
    "<font size = \"5\"> **[Analysis of Transmission Electron Microscope Data](_Analysis_of_Transmission_Electron_Microscope_Data.ipynb)**</font>\n",
    "\n",
    "\n",
    "by Gerd Duscher, 2019\n",
    "\n",
    "Microscopy Facilities<br>\n",
    "Joint Institute of Advanced Materials<br>\n",
    "The University of Tennessee, Knoxville\n",
    "\n",
    "Model based analysis and quantification of data acquired with transmission electron microscopes\n"
   ]
  },
  {
   "cell_type": "markdown",
   "metadata": {},
   "source": [
    "## Basics\n",
    "\n",
    "- Diffraction is the direct result of the interaction (with or without\n",
    "energy transfer) of electrons and matter.\n",
    "- Kinematic diffraction theory describes only the Bragg angles (the position of the Bragg reflections) but not the intensity in a real\n",
    "diffraction pattern.\n",
    "- Dynamic theory is responsible for the intensity variation of the Bragg reflections\n"
   ]
  },
  {
   "cell_type": "markdown",
   "metadata": {},
   "source": [
    "## Diffraction and Imaging\n",
    "\n",
    "- To achieve an image from a diffraction pattern only a **Fourier Transformation** of parts of the diffraction pattern is needed.\n",
    "- Any image in a TEM can be described as **Fourier Filtering**, because we select the beams that form the images. The knowledge of which and how many diffracted beams contribute to the image formation is crucial.\n",
    "- Because the intensity of selected diffracted beams is necessary to calculate image intensities, dynamic diffraction theory is necessary.\n",
    "- Understanding difraction theory of electrons is at the core of the analysis of TEM data.\n"
   ]
  },
  {
   "cell_type": "markdown",
   "metadata": {},
   "source": [
    "## Diffraction and Scattering\n",
    "\n",
    "Electrons can be viewed as particles and/or as waves.\n",
    "\n",
    "### Particle-wave dualism:\n",
    "\n",
    " <table style=\"width:80%\">\n",
    "  <tr>\n",
    "    <th>Scattering</th>\n",
    "    <th>$\\leftrightarrow$</th>\n",
    "    <th>Diffraction</th>\n",
    "  </tr>\n",
    "  <tr>\n",
    "    <td>Particle picture</td>\n",
    "    <td>$\\leftrightarrow$</td>\n",
    "    <td>Wave picture</td>\n",
    "  </tr>\n",
    " \n",
    "</table> "
   ]
  },
  {
   "cell_type": "markdown",
   "metadata": {},
   "source": [
    "## Interaction of Common Particles with Matter\n",
    "\n",
    "We generally use electron, photons, and neutrons for diffraction/scattering\n",
    "experiments.\n",
    "\n",
    "These particles interact with differently with matter:\n",
    "\n",
    " <table style=\"width:80%\">\n",
    " \n",
    "  <tr>\n",
    "    <td>X-rays</td>\n",
    "    <td>$\\leftrightarrow$</td>\n",
    "    <td>electron density</td>\n",
    "  </tr>\n",
    "  <tr>\n",
    "    <td>neutrons</td>\n",
    "    <td>$\\leftrightarrow$</td>\n",
    "    <td>mass of nucleus</td>\n",
    "  </tr>\n",
    "  <tr>\n",
    "    <td>neutrons</td>\n",
    "    <td>$\\leftrightarrow$</td>\n",
    "    <td>magnetic moment</td>\n",
    "  </tr>\n",
    "  <tr>\n",
    "    <td>electrons</td>\n",
    "    <td>$\\leftrightarrow$</td>\n",
    "    <td>screened charge of nucleus</td>\n",
    "  </tr>\n",
    " \n",
    "</table> \n",
    "\n",
    "We will deal with the nature of electrons more closely in [this notebook](CH2-Electron.ipynb)"
   ]
  },
  {
   "cell_type": "markdown",
   "metadata": {},
   "source": [
    "## Dynamic and Kinematic Theory\n",
    "\n",
    "- Kinematic Theory is based on a single scattering event per electron\n",
    "- Kinematic theory is used in neutron and X-ray diffraction almost exclusively.\n",
    "\n",
    "\n",
    "- Dynamic theory incorporates multi-scattering events.\n",
    "- Dynamic theory results in **Rocking Curves** of intensities of difracted beams with sample thickness.\n",
    "- Dynamic theory can analytically be solved only for the two beam case, strangely the basis for conventional TEM.\n",
    "\n"
   ]
  },
  {
   "cell_type": "markdown",
   "metadata": {},
   "source": [
    "## Kinematic Diffraction Theory Buzz Words\n",
    "\n",
    "The following terms will be important in Kinematic Theory:\n",
    "\n",
    " <table style=\"width:80%\">\n",
    " \n",
    "  <tr>\n",
    "    <td>f</td>\n",
    "    <td> atomic scattering factor</td>\n",
    "    <td>scattering strength of an atom </td>\n",
    "        \n",
    "  </tr>\n",
    "  <tr>\n",
    "    <td>F</td>\n",
    "    <td>form factor</td>\n",
    "      <td>combination of symmetrry and atomic scattering factor</td>\n",
    "  </tr>\n",
    "    <tr>\n",
    "    <td></td>\n",
    "    <td>forbidden reflection</td>\n",
    "      <td>a direct result of the form factor</td>\n",
    "  </tr>\n",
    "  <tr>\n",
    "    <td>$\\sigma$</td>\n",
    "    <td>cross-section</td>\n",
    "      <td>scattering probability expressed as an effective area </td>\n",
    "  </tr>\n",
    "  <tr>\n",
    "    <td>$\\frac{\\partial \\sigma}{\\partial \\Omega}$</td>\n",
    "    <td>cross-section</td>\n",
    "    <td> scattering probability in a solid angle </td>\n",
    "  </tr>\n",
    "  <tr>\n",
    "    <td>$\\lambda$</td>\n",
    "    <td>mean free path</td>\n",
    "    <td> scattering probability expressed as a path-length between two scattering events</td>\n",
    "  </tr> \n",
    "</table> \n",
    "\n",
    "We will start discussiong this terms in the [Atomic Form Factor](Ch2-Atomic_Form_Factor.ipynb) and following notebooks"
   ]
  },
  {
   "cell_type": "markdown",
   "metadata": {},
   "source": [
    "# Navigation\n",
    "## Back: [Introduction](CH2-Introduction)\n",
    "## Next: [Electron](CH2-Electron.ipynb)\n",
    "## Chapter 2: [Diffraction](CH2_Diffraction.ipynb)\n",
    "## List of Content: [Front](_Analysis_of_Scanning_Electron_Microscope_Data.ipynb)\n"
   ]
  },
  {
   "cell_type": "code",
   "execution_count": null,
   "metadata": {},
   "outputs": [],
   "source": []
  }
 ],
 "metadata": {
  "kernelspec": {
   "display_name": "Python 3",
   "language": "python",
   "name": "python3"
  },
  "language_info": {
   "codemirror_mode": {
    "name": "ipython",
    "version": 3
   },
   "file_extension": ".py",
   "mimetype": "text/x-python",
   "name": "python",
   "nbconvert_exporter": "python",
   "pygments_lexer": "ipython3",
   "version": "3.8.6"
  },
  "toc": {
   "base_numbering": 1,
   "nav_menu": {},
   "number_sections": true,
   "sideBar": true,
   "skip_h1_title": false,
   "title_cell": "Table of Contents",
   "title_sidebar": "Contents",
   "toc_cell": false,
   "toc_position": {
    "height": "472.5px",
    "left": "494px",
    "top": "134.867px",
    "width": "115.167px"
   },
   "toc_section_display": true,
   "toc_window_display": true
  }
 },
 "nbformat": 4,
 "nbformat_minor": 2
}
