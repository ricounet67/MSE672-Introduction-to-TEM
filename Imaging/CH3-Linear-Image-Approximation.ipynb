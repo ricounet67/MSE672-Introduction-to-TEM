{
 "cells": [
  {
   "cell_type": "markdown",
   "metadata": {
    "hideCode": false,
    "hideOutput": true,
    "hidePrompt": false
   },
   "source": [
    "\n",
    "\n",
    "<font size = \"5\"> **Chapter 2:  [Imaging](Ch3-Imaging.ipynb)** </font>\n",
    "\n",
    "\n",
    "<hr style=\"height:1px;border-top:4px solid #FF8200\" />\n",
    "\n",
    "# Registration of Images in a Stack \n",
    "\n",
    "part of \n",
    "\n",
    "<font size = \"5\"> **[Analysis of Transmission Electron Microscope Data](_Analysis_of_Transmission_Electron_Microscope_Data.ipynb)**</font>\n",
    "\n",
    "\n",
    "by Gerd Duscher, 2019\n",
    "\n",
    "Microscopy Facilities<br>\n",
    "Joint Institute of Advanced Materials<br>\n",
    "The University of Tennessee, Knoxville\n",
    "\n",
    "Model based analysis and quantification of data acquired with transmission electron microscopes"
   ]
  },
  {
   "cell_type": "markdown",
   "metadata": {
    "hideCode": false,
    "hidePrompt": false
   },
   "source": [
    "## First we import the usual libraries\n",
    "Please visit the  section for [pyTEMlib](Ch1-Prerequesites.ipynb#TEM_Library) of the [Prerequesites](Ch1-Prerequesites.ipynb) section for information of necessary packages.\n",
    "\n",
    "You'll need at least pyTEMlib version 0.7.2019.0"
   ]
  },
  {
   "cell_type": "code",
   "execution_count": 1,
   "metadata": {
    "hideCode": false,
    "hidePrompt": false,
    "scrolled": true
   },
   "outputs": [
    {
     "name": "stdout",
     "output_type": "stream",
     "text": [
      "Populating the interactive namespace from numpy and matplotlib\n",
      "Using KinsCat library version  0.5  by G.Duscher\n",
      "spglib not installed; Symmetry functions of spglib disabled\n",
      "pyTEM version:  0.2021.02.22\n"
     ]
    },
    {
     "name": "stderr",
     "output_type": "stream",
     "text": [
      "C:\\Users\\gduscher\\Anaconda3\\lib\\site-packages\\pyUSID\\viz\\__init__.py:16: FutureWarning: Please use sidpy.viz.plot_utils instead of pyUSID.viz.plot_utils. pyUSID.plot_utils will be removed in a future release of pyUSID\n",
      "  warn('Please use sidpy.viz.plot_utils instead of pyUSID.viz.plot_utils. '\n"
     ]
    }
   ],
   "source": [
    "# import matplotlib and numpy\n",
    "#                       use \"inline\" instead of \"notebook\" for non-interactive plots\n",
    "%pylab --no-import-all widget \n",
    "\n",
    "import scipy.constants\n",
    "\n",
    "# Import libraries from the book\n",
    "import pyTEMlib\n",
    "import pyTEMlib.KinsCat as ks\n",
    "\n",
    "# For archiving reasons it is a good idea to print the version numbers out at this point\n",
    "print('pyTEM version: ',pyTEMlib.__version__)\n",
    "\n",
    "__notebook__ = '2_Image_Registration'\n",
    "__notebook_version__ = '2020_06_27'"
   ]
  },
  {
   "cell_type": "markdown",
   "metadata": {},
   "source": [
    "## Projected Potential from Parametrization of Atomic Form Factor\n",
    "\n",
    "Following Kirkland (2$^nd$ edition Appendix C page 252),\n",
    "the atom potential is with $r^2 = x^2+z^2+z^2$ and $V(x,y,z) =V(\\vec{r})$ \n",
    "$$\n",
    "\\begin{eqnarray}\n",
    "v(x, y, z) &=&  2 \\pi a_0 e_0 \\int f_e(q) \\exp \\left( -2 \\pi i \\vec{q} \\vec{r}  \\right)  d^3r \\\\\n",
    "&=& 2 \\pi^2 a_0 e_0 \\sum_i \\frac{a_i}{r} \\exp \\left( -2 \\pi r  \\sqrt{b_i} \\right) + 2\\pi^{5/2} a_0 e_0 \\sum_i c_i d_i^{-3/2} \\exp \\left(\\frac{-\\pi^2 r^2}{d_i} \\right)\n",
    "\\end{eqnarray}\n",
    "$$\n",
    "with $r^2 = x^2+z^2+z^2$\n",
    "\n",
    "The ``projected potential`` is then:\n",
    "$$\n",
    "\\begin{eqnarray}\n",
    "v_z(x,y) &=& \\int_{-\\inf}^{\\inf} V(x,y,z) dz \\\\\n",
    "&=& 4 \\pi^2 a_0 e_0 \\sum_i a_i K_0 \\left( 2 \\pi r \\sqrt{b_i} \\right)\n",
    "+ 2 \\pi^2 a_0 e_0 \\sum_i \\frac{c_i}{d_i} \\exp \\left( \\frac{-\\pi^2 r^2}{d_i} \\right)\\\\\n",
    "&=& 2 \\pi^2 a_0 e_0 \\left[2 \\sum_i a_i K_0 \\left( 2 \\pi r \\sqrt{b_i} \\right) \n",
    "+\\sum_i \\frac{c_i}{d_i} \\exp \\left( \\frac{-\\pi^2 r^2}{d_i} \\right) \\right]\n",
    "\\end{eqnarray}\n",
    "$$\n",
    "with $ r^2 = x^2 + y^2$, we need to calculate the 1D potential only, dueto the radial symmetry of atoms.\n",
    "\n",
    "The ``spherical Bessel function`` is providedby the ``scipy`` special package.\n",
    "\n",
    "We will use the last of the equations in our calculation"
   ]
  },
  {
   "cell_type": "code",
   "execution_count": 3,
   "metadata": {},
   "outputs": [],
   "source": [
    "import scipy.special \n",
    "\n",
    "def potential_1D(element, r, dx):\n",
    "    # atomic_number.append(electronFF[tags['elements'][i]]['Z'])\n",
    "    a0 = scipy.constants.value('Bohr radius') * 1e10\n",
    "    e0 = scipy.constants.elementary_charge\n",
    "    dx = dx * 10\n",
    "    r = r * 10\n",
    "    \n",
    "    pre_factor = 2 * np.pi ** 2 * a0 * e0\n",
    "\n",
    "    param = ks.electronFF[element]  # parametrized form factors\n",
    "    fL = r*0  # Lorentzian term\n",
    "    fG = r*0  # Gaussian term\n",
    "    for i in range(3):\n",
    "        fL += param['fa'][i] * scipy.special.k0(2 * np.pi * r * np.sqrt(param['fb'][i]))\n",
    "        fG += param['fc'][i] / param['fd'][i] * np.exp(-np.pi**2 * r**2 / param['fd'][i])\n",
    "\n",
    "       \n",
    "    return pre_factor * (2 * fL + fG)\n"
   ]
  },
  {
   "cell_type": "markdown",
   "metadata": {},
   "source": [
    "### Plot quarter of projected atom potential\n",
    "We now use this function to plot a projected atom potential up in a 1nm by 1nm image. "
   ]
  },
  {
   "cell_type": "code",
   "execution_count": 4,
   "metadata": {},
   "outputs": [
    {
     "data": {
      "application/vnd.jupyter.widget-view+json": {
       "model_id": "24e358b8fe6b45d6bb96a9452b335fcf",
       "version_major": 2,
       "version_minor": 0
      },
      "text/plain": [
       "Canvas(toolbar=Toolbar(toolitems=[('Home', 'Reset original view', 'home', 'home'), ('Back', 'Back to previous …"
      ]
     },
     "metadata": {},
     "output_type": "display_data"
    },
    {
     "data": {
      "text/plain": [
       "Text(0.5, 0, 'distance (nm)')"
      ]
     },
     "execution_count": 4,
     "metadata": {},
     "output_type": "execute_result"
    }
   ],
   "source": [
    "pixel_size = 0.01\n",
    "\n",
    "\n",
    "a_nx = a_ny = int(1/pixel_size)\n",
    "x,y = np.mgrid[0:a_nx, 0:a_ny] * pixel_size\n",
    "\n",
    "r = x**2+y**2 \n",
    "r[r<pixel_size] = pixel_size/4\n",
    "atom_potential = potential_1D('Si', r, 0.02)\n",
    "\n",
    "plt.figure()\n",
    "plt.imshow(np.log(atom_potential), extent=[0,a_nx*pixel_size,a_ny*pixel_size,0])\n",
    "plt.xlabel('distance (nm)')"
   ]
  },
  {
   "cell_type": "markdown",
   "metadata": {},
   "source": [
    "### Plot full projected atom potential\n",
    "Now, that we have a quarter of the atom potential, we make the round one."
   ]
  },
  {
   "cell_type": "code",
   "execution_count": 5,
   "metadata": {},
   "outputs": [
    {
     "data": {
      "application/vnd.jupyter.widget-view+json": {
       "model_id": "9d9fd152dff24a309c7b385dc4ef32a7",
       "version_major": 2,
       "version_minor": 0
      },
      "text/plain": [
       "Canvas(toolbar=Toolbar(toolitems=[('Home', 'Reset original view', 'home', 'home'), ('Back', 'Back to previous …"
      ]
     },
     "metadata": {},
     "output_type": "display_data"
    },
    {
     "data": {
      "text/plain": [
       "Text(0.5, 0, 'distance (nm)')"
      ]
     },
     "execution_count": 5,
     "metadata": {},
     "output_type": "execute_result"
    }
   ],
   "source": [
    "atom_potential_round = np.zeros([2*a_nx, 2*a_ny])\n",
    "atom_potential_round[a_nx:,a_ny:] = atom_potential\n",
    "atom_potential_round[a_nx:,:a_ny] = np.flip(atom_potential, axis=1)\n",
    "atom_potential_round[:a_nx,a_ny:] = np.flip(atom_potential, axis=0)\n",
    "atom_potential_round[:a_nx,:a_ny] = np.flip(np.flip(atom_potential, axis=0), axis=1)\n",
    "plt.figure()\n",
    "plt.imshow(np.log(atom_potential_round), extent=[0,2*a_nx*pixel_size,2*a_ny*pixel_size,0])\n",
    "plt.xlabel('distance (nm)')"
   ]
  },
  {
   "cell_type": "markdown",
   "metadata": {},
   "source": [
    "### Embedd atoms in images\n",
    "\n",
    "We place the atom in the corner of a matrix with the same size as the image to be simulated.\n",
    "\n",
    "With the numpy roll function we now can move this atom wherever we want.\n"
   ]
  },
  {
   "cell_type": "code",
   "execution_count": 6,
   "metadata": {},
   "outputs": [
    {
     "data": {
      "application/vnd.jupyter.widget-view+json": {
       "model_id": "07d20ef35ca744479aab23195c240304",
       "version_major": 2,
       "version_minor": 0
      },
      "text/plain": [
       "Canvas(toolbar=Toolbar(toolitems=[('Home', 'Reset original view', 'home', 'home'), ('Back', 'Back to previous …"
      ]
     },
     "metadata": {},
     "output_type": "display_data"
    },
    {
     "data": {
      "text/plain": [
       "<matplotlib.image.AxesImage at 0x1f208ab7190>"
      ]
     },
     "execution_count": 6,
     "metadata": {},
     "output_type": "execute_result"
    }
   ],
   "source": [
    "nx = ny =  512\n",
    "\n",
    "atom_potential_corner = np.zeros([nx,ny])\n",
    "\n",
    "atom_potential_corner[0:a_nx, 0:a_ny] = atom_potential\n",
    "atom_potential_corner[nx-a_nx:,0:a_ny] = np.flip(atom_potential, axis=0)\n",
    "atom_potential_corner[0:a_nx,ny-a_ny:] = np.flip(atom_potential, axis=1)\n",
    "atom_potential_corner[nx-a_nx:,ny-a_ny:] = np.flip(np.flip(atom_potential, axis=0), axis=1)\n",
    "\n",
    "\n",
    "plt.figure()\n",
    "plt.imshow(np.roll(atom_potential_corner, shift = [50,50], axis = [0,1]))\n"
   ]
  },
  {
   "cell_type": "markdown",
   "metadata": {},
   "source": [
    "## Projected Potential of Supercell"
   ]
  },
  {
   "cell_type": "code",
   "execution_count": 7,
   "metadata": {},
   "outputs": [
    {
     "name": "stdout",
     "output_type": "stream",
     "text": [
      "[0 0]\n",
      "[32 32]\n",
      "1.28\n",
      "1.0222392829586504e-17\n"
     ]
    },
    {
     "data": {
      "application/vnd.jupyter.widget-view+json": {
       "model_id": "ea56aa07797b4582b5e38a715f91610d",
       "version_major": 2,
       "version_minor": 0
      },
      "text/plain": [
       "Canvas(toolbar=Toolbar(toolitems=[('Home', 'Reset original view', 'home', 'home'), ('Back', 'Back to previous …"
      ]
     },
     "metadata": {},
     "output_type": "display_data"
    },
    {
     "data": {
      "text/plain": [
       "<matplotlib.image.AxesImage at 0x1f208b231f0>"
      ]
     },
     "execution_count": 7,
     "metadata": {},
     "output_type": "execute_result"
    }
   ],
   "source": [
    "potential_unit_cell = np.zeros([nx,ny])\n",
    "atom_potential_corner = np.zeros([nx,ny])\n",
    "\n",
    "potential = np.zeros([nx,ny])\n",
    "\n",
    "atom_potential_corner[0:a_nx, 0:a_ny] = atom_potential\n",
    "atom_potential_corner[nx-a_nx:,0:a_ny] = np.flip(atom_potential, axis=0)\n",
    "atom_potential_corner[0:a_nx,ny-a_ny:] = np.flip(atom_potential, axis=1)\n",
    "atom_potential_corner[nx-a_nx:,ny-a_ny:] = np.flip(np.flip(atom_potential, axis=0), axis=1)\n",
    "\n",
    "\n",
    "unit_cell_base = np.array([[0.0, 0.0] , [0.5,0.5] ])*nx/8\n",
    "unit_cell_base = np.array(unit_cell_base, dtype= int)\n",
    "for pos in unit_cell_base:\n",
    "    potential_unit_cell = potential_unit_cell + np.roll(atom_potential_corner, shift = pos, axis = [0,1])\n",
    "    print(pos)\n",
    "    \n",
    "for i in range(8):\n",
    "    for j in range(8):\n",
    "        potential = potential + np.roll(potential_unit_cell, shift = [i*64,j*64], axis = [0,1])\n",
    "print(64*0.02)\n",
    "print(potential.max())\n",
    "plt.figure()\n",
    "plt.imshow((potential) )"
   ]
  },
  {
   "cell_type": "markdown",
   "metadata": {},
   "source": [
    "### All together in a function"
   ]
  },
  {
   "cell_type": "code",
   "execution_count": 59,
   "metadata": {},
   "outputs": [
    {
     "data": {
      "application/vnd.jupyter.widget-view+json": {
       "model_id": "88021bde6d1542cf9e3d7673bf2f14f1",
       "version_major": 2,
       "version_minor": 0
      },
      "text/plain": [
       "Canvas(toolbar=Toolbar(toolitems=[('Home', 'Reset original view', 'home', 'home'), ('Back', 'Back to previous …"
      ]
     },
     "metadata": {},
     "output_type": "display_data"
    },
    {
     "data": {
      "text/plain": [
       "<matplotlib.image.AxesImage at 0x1f21d5b3130>"
      ]
     },
     "execution_count": 59,
     "metadata": {},
     "output_type": "execute_result"
    }
   ],
   "source": [
    "def potential_2D(element, nx, ny, n_cell_x, n_cell_y, lattice_parameter, base):\n",
    "    n_cell_x = int(2**np.log2(n_cell_x))\n",
    "    n_cell_y = int(2**np.log2(n_cell_y))\n",
    "    \n",
    "    pixel_size = lattice_parameter/(nx/n_cell_x)\n",
    "    \n",
    "    a_nx = a_ny = int(1/pixel_size)\n",
    "    x,y = np.mgrid[0:a_nx, 0:a_ny] * pixel_size\n",
    "    a = int(nx/n_cell_x)\n",
    "    r = x**2+y**2 \n",
    "    r[r<pixel_size] = pixel_size/4\n",
    "    atom_potential = potential_1D(element, r, 0.02)\n",
    "\n",
    "    potential = np.zeros([nx,ny])\n",
    "\n",
    "    atom_potential_corner = np.zeros([nx,ny])\n",
    "    atom_potential_corner[0:a_nx, 0:a_ny] = atom_potential\n",
    "    atom_potential_corner[nx-a_nx:,0:a_ny] = np.flip(atom_potential, axis=0)\n",
    "    atom_potential_corner[0:a_nx,ny-a_ny:] = np.flip(atom_potential, axis=1)\n",
    "    atom_potential_corner[nx-a_nx:,ny-a_ny:] = np.flip(np.flip(atom_potential, axis=0), axis=1)\n",
    "\n",
    "    unit_cell_base = np.array(base)*a\n",
    "    unit_cell_base = np.array(unit_cell_base, dtype= int)\n",
    "    \n",
    "\n",
    "    for pos in unit_cell_base:\n",
    "        potential = potential + np.roll(atom_potential_corner, shift=np.array(pos), axis = [0,1])\n",
    "    \n",
    "    for column in range(int(np.log2(n_cell_x))):\n",
    "        potential = potential + np.roll(potential, shift = 2**column * a, axis = 1)\n",
    "    for row in range(int(np.log2(n_cell_y))):\n",
    "        potential = potential + np.roll(potential, shift = 2**row * a, axis = 0)\n",
    "            \n",
    "    return potential\n",
    "\n",
    "nx = ny = 512\n",
    "n_cell_x = 16\n",
    "a = 0.28\n",
    "\n",
    "potential = potential_2D('Si', nx, nx, n_cell_x, n_cell_x, a, [[0,0], [0.5,0.5]])\n",
    "pixel_size = a/(nx/n_cell_x)\n",
    "plt.figure()\n",
    "plt.imshow((potential), extent=[0,nx*pixel_size, ny*pixel_size, 0 ])"
   ]
  },
  {
   "cell_type": "markdown",
   "metadata": {},
   "source": [
    "## Transmission Function for Very Thin Specimen\n",
    "\n",
    "For a very thin specimen the ``weak phase approximation`` is the simples way to calculate a high resolution (phase contrast) image.  \n",
    "In that approximation, the sample causes only a phase change to the incident plane wave.\n",
    "\n",
    "\n",
    "To retrieve the exit we just multiply the transmission function $t(\\vec{x})$ with the plane wave $\\exp (2\\pi i k_z z)$\n",
    "\n",
    "$$ \\Psi_t(\\vec{x}) = t(\\vec{x}) \\exp \\left(2 \\pi i k_z z \\right) \\approx t(\\vec{x})  $$\n",
    "\n",
    "The specimen transmission function depends on the projected potential $v_z(\\vec{x})$ and the interaction parameter $\\sigma$:\n",
    "$$t(\\vec{x}) =  \\exp \\left( i \\sigma v_z(\\vec{x})\\right)$$\n",
    "\n",
    "with the interaction parameter $\\sigma$:\n",
    "$$ \n",
    "\\sigma = \\frac{2 \\pi}{\\lambda V} \\left(  \\frac{m_0 c^2 + eV}{2m_0c^2+eV} \\right) = \\frac{2 \\pi m  e_0 \\lambda}{h^2}\n",
    "$$\n",
    "with $ m = \\gamma m_0$ and $eV$ the incident electron energy."
   ]
  },
  {
   "cell_type": "code",
   "execution_count": 60,
   "metadata": {},
   "outputs": [
    {
     "name": "stdout",
     "output_type": "stream",
     "text": [
      "(512, 512)\n"
     ]
    },
    {
     "data": {
      "application/vnd.jupyter.widget-view+json": {
       "model_id": "ba50107f9c9944a0841e922c7ea2d7aa",
       "version_major": 2,
       "version_minor": 0
      },
      "text/plain": [
       "Canvas(toolbar=Toolbar(toolitems=[('Home', 'Reset original view', 'home', 'home'), ('Back', 'Back to previous …"
      ]
     },
     "metadata": {},
     "output_type": "display_data"
    },
    {
     "data": {
      "text/plain": [
       "<matplotlib.image.AxesImage at 0x1f21d3513a0>"
      ]
     },
     "execution_count": 60,
     "metadata": {},
     "output_type": "execute_result"
    }
   ],
   "source": [
    "def interaction_parameter(acceleration_voltage):\n",
    "    \"\"\"Calculates interaction parameter sigma\n",
    "    \n",
    "    Parameter\n",
    "    ---------\n",
    "    acceleration_voltage: float\n",
    "        acceleration voltage in volt\n",
    "    \n",
    "    Returns\n",
    "    -------\n",
    "    interaction parameter: float\n",
    "        interaction parameter (dimensionless)\n",
    "    \"\"\"\n",
    "    V = acceleration_voltage # in eV\n",
    "    E0 = 510998.95 #  m_0 c^2 in eV\n",
    "    \n",
    "    wavelength = ks.get_wavelength(acceleration_voltage)\n",
    "    E = acceleration_voltage\n",
    "    \n",
    "    return 2*np.pi/ (wavelength * E)  *(E0 + E)/(2*E0+E)\n",
    "\n",
    "\n",
    "potential = np.array(potential, dtype=complex)\n",
    "\n",
    "def transmission(sigma, potential):\n",
    "    \n",
    "    return np.exp(1j*sigma* potential)\n",
    "    \n",
    "acceleration_voltage = 20000\n",
    "sigma = interaction_parameter(acceleration_voltage)\n",
    "t = transmission(sigma, potential)\n",
    "\n",
    "print(t.shape)\n",
    "\n",
    "plt.figure()\n",
    "plt.imshow(t.imag)\n",
    "\n"
   ]
  },
  {
   "cell_type": "markdown",
   "metadata": {},
   "source": [
    "## Aberration Function\n",
    "\n",
    "The aberration function $chi(\\vec{k})$ is defined in reciprocal space.\n",
    "\n",
    "For the calculation of $chi$ we use the angles instead of reciprocal distances.\n",
    "\n",
    "We came accross the aberration function before in the [contrast transfer function notebook](CH3-CTF.ipynb).\n",
    "\n",
    "\n",
    "Please look up how we determined the different Scherzer foci in [contrast transfer function notebook](CH3-CTF.ipynb). The contrast transfer function (CTF) is just the radial average of the aberration function if all aberrations are zero except defocus (C10) and spherical aberration (C30). \n",
    "\n",
    "\n",
    "The objective lens function (or point spread function of the eletron microscope) $H_0(\\vec{k})$\n",
    "is defined as:\n",
    "$$ \n",
    "H_0(\\vec{k}) = \\sin \\left(\\chi(\\vec{k})\\right)\n",
    "$$\n",
    "an oscillating function and at the origin of problems in electron microscopy.\n",
    "\n",
    "In the TEM a Fourier transform of an image of an thin amorphous material will look similar (with noise) to the object function below. Compare those diffractograms with differnt defoci with those of our simulation.\n",
    "\n",
    "\n",
    "Check out what the astigmatism (C12a or C12b) does to the object function."
   ]
  },
  {
   "cell_type": "code",
   "execution_count": 61,
   "metadata": {},
   "outputs": [
    {
     "data": {
      "application/vnd.jupyter.widget-view+json": {
       "model_id": "b46a6d8460f64deab8b40bcb7d75e477",
       "version_major": 2,
       "version_minor": 0
      },
      "text/plain": [
       "Canvas(toolbar=Toolbar(toolitems=[('Home', 'Reset original view', 'home', 'home'), ('Back', 'Back to previous …"
      ]
     },
     "metadata": {},
     "output_type": "display_data"
    },
    {
     "data": {
      "text/plain": [
       "Text(0.5, 0, 'reciprocal distance (1/nm)')"
      ]
     },
     "execution_count": 61,
     "metadata": {},
     "output_type": "execute_result"
    }
   ],
   "source": [
    "def make_chi(theta, phi, wavelength, ab):\n",
    "    \"\"\"Calculate aberration function chi\n",
    "    \n",
    "    Input:\n",
    "    ------\n",
    "    theta, phi: numpay array (n x m)\n",
    "        angle meshes of the reciprocal space\n",
    "    wavelength: float\n",
    "        wavelength in nm\n",
    "    ab: dict\n",
    "        aberrations in nm should at least contain defocus (C10), and spherical abeeration (C30) \n",
    "        \n",
    "    Returns:\n",
    "    --------\n",
    "    chi: numpy array (nxm)\n",
    "        aberration function \n",
    "    \"\"\"\n",
    "    if 'C10' not in ab:\n",
    "        ab['C10'] = 0.\n",
    "    if 'C12a' not in ab:\n",
    "        ab['C12a'] = 0.\n",
    "    if 'C12b' not in ab:\n",
    "        ab['C12b'] = 0.\n",
    "    # defocus and astigmatism\n",
    "    t1 = np.power(theta, 2)/2 * (ab['C10']  + ab['C12a'] * np.cos(2 * phi) + ab['C12b'] * np.sin(2 * phi))\n",
    "    \n",
    "\n",
    "    # coma and three fold astigmatism\n",
    "    if 'C21a' in ab and 'C21b' in ab and 'C23a' in ab and 'C23b' in ab:\n",
    "        t2 = np.power(theta, 3)/3 * (ab['C21a'] * np.cos(1*phi) + ab['C21b'] * np.sin(1*phi))\n",
    "    else:\n",
    "        t2 = theta*0.\n",
    "    # spherical aberration\n",
    "    if 'C30' not in ab:\n",
    "        ab['C30'] = 0.\n",
    "    t3 = np.power(theta, 4)/4 * ab['C30']\n",
    "                              \n",
    "    chi = t1 + t2+ t3\n",
    "    return chi * 2 * np.pi / wavelength  # np.power(theta,6)/6*(  ab['C50'] )\n",
    "                           \n",
    "def objective_lens_function(ab, nx, ny, field_of_view, wavelength, aperture_size=10):\n",
    "    \"\"\"Objective len function to be convoluted with exit wave to derive image function\n",
    "    \n",
    "    Input:\n",
    "    ab: dict\n",
    "        aberrations in nm should at least contain defocus (C10), and spherical abeeration (C30) \n",
    "    nx: int\n",
    "        number of pixel in x direction\n",
    "    ny: int\n",
    "        number of pixel in y direction\n",
    "    field_of_view: float\n",
    "        field of fiew of potential\n",
    "    wavelength: float\n",
    "        wavelength in nm\n",
    "    aperture_size: float\n",
    "        aperture size in 1/nm\n",
    "        \n",
    "    Returns:\n",
    "    --------\n",
    "    object function: numpy array (nx x ny)\n",
    "    extent: list\n",
    "    \"\"\"\n",
    "    \n",
    "    # Reciprocal plane in 1/nm\n",
    "    dk = 1 / field_of_view\n",
    "    t_xv, t_yv = np.mgrid[int(-nx/2):int(nx/2),int(-ny/2):int(ny/2)] *dk\n",
    "\n",
    "    # define reciprocal plane in angles\n",
    "    phi = np.arctan2(t_yv, t_xv)\n",
    "    theta = np.arctan2(np.sqrt(t_xv**2 + t_yv**2), 1/wavelength)\n",
    "\n",
    "    mask = theta < aperture_size * wavelength\n",
    "\n",
    "    # calculate chi\n",
    "    chi = make_chi(theta, phi, wavelength, ab)\n",
    "    \n",
    "    extent = [-nx/2*dk, nx/2*dk, -nx/2*dk,nx/2*dk]\n",
    "    return np.sin(chi)*mask, extent\n",
    "\n",
    "acceleration_voltage = 200000\n",
    "ab={'C10':-84.0, 'C12a':0.0, 'C12b':0.0, 'C30': 2.2*1e6} # aberrations in nm\n",
    "\n",
    "wavelength = ks.get_wavelength(acceleration_voltage)\n",
    "\n",
    "objective_lens, extent = objective_lens_function(ab, nx, nx, nx*pixel_size, wavelength, 1/.18)\n",
    "plt.figure()\n",
    "plt.imshow(objective_lens, extent=extent)\n",
    "plt.xlabel('reciprocal distance (1/nm)')\n"
   ]
  },
  {
   "cell_type": "markdown",
   "metadata": {},
   "source": [
    "## Image Simulation in Weak Phase Approximation\n",
    "\n",
    "In the weak phase approximation the image is just the convoltuion of the transmission function and the objective lens funtion.\n",
    "\n",
    "If an aperture selects only the inner smooth part of the objetive function in Scherzer defocus, the image is naively to interpret as the dark parts as the atoms (remember the CTF is negative in that case)"
   ]
  },
  {
   "cell_type": "code",
   "execution_count": 62,
   "metadata": {},
   "outputs": [
    {
     "data": {
      "application/vnd.jupyter.widget-view+json": {
       "model_id": "fb42f7066531411f9b768eaea9851b6c",
       "version_major": 2,
       "version_minor": 0
      },
      "text/plain": [
       "Canvas(toolbar=Toolbar(toolitems=[('Home', 'Reset original view', 'home', 'home'), ('Back', 'Back to previous …"
      ]
     },
     "metadata": {},
     "output_type": "display_data"
    },
    {
     "data": {
      "text/plain": [
       "<matplotlib.image.AxesImage at 0x1f21ad99160>"
      ]
     },
     "execution_count": 62,
     "metadata": {},
     "output_type": "execute_result"
    }
   ],
   "source": [
    "image = np.fft.ifft2((np.fft.fft2(t))*np.fft.fftshift(objective_lens))\n",
    "plt.figure()\n",
    "plt.imshow(np.abs(image*np.conjugate(image)))\n"
   ]
  },
  {
   "cell_type": "markdown",
   "metadata": {},
   "source": [
    "## Influence of Aberrations on Image\n",
    "\n",
    "Within this weak phase object aberration, we can already investigate the influence of lens aberrations on the image.\n",
    "\n",
    "We do now all steps together and check the effect of the aberration, acceleration voltage, aperture, and element onto the final image (in weak phase approximation).\n",
    "\n"
   ]
  },
  {
   "cell_type": "code",
   "execution_count": 69,
   "metadata": {},
   "outputs": [
    {
     "data": {
      "application/vnd.jupyter.widget-view+json": {
       "model_id": "1ba980fc9ec9415dbc2021e84dd22573",
       "version_major": 2,
       "version_minor": 0
      },
      "text/plain": [
       "Canvas(toolbar=Toolbar(toolitems=[('Home', 'Reset original view', 'home', 'home'), ('Back', 'Back to previous …"
      ]
     },
     "metadata": {},
     "output_type": "display_data"
    },
    {
     "data": {
      "text/plain": [
       "Text(0.5, 0, 'distance (nm)')"
      ]
     },
     "execution_count": 69,
     "metadata": {},
     "output_type": "execute_result"
    }
   ],
   "source": [
    "nx = ny = 1024\n",
    "n_cell_x = 16\n",
    "a = 0.28\n",
    "acceleration_voltage = 200000\n",
    "resolution = 0.1\n",
    "ab={'C10':-188.0, 'C12a': 00.0, 'C12b':0.0, 'C30': 2.2*1e6} # aberrations in nm\n",
    "\n",
    "potential = potential_2D('Au', nx, nx, n_cell_x, n_cell_x, a, [[0,0], [0.5,0.5]])\n",
    "pixel_size = a/(nx/n_cell_x)\n",
    "\n",
    "sigma = interaction_parameter(acceleration_voltage)\n",
    "t = transmission(sigma, potential)\n",
    "\n",
    "wavelength = ks.get_wavelength(acceleration_voltage)\n",
    "\n",
    "objective_lens, extent_r = objective_lens_function(ab, nx, nx, nx*pixel_size, wavelength, 1/resolution)\n",
    "\n",
    "image = np.fft.ifft2((np.fft.fft2(t))*np.fft.fftshift(objective_lens))\n",
    "image = np.abs(image*np.conjugate(image))\n",
    "\n",
    "plt.close('all')\n",
    "fig, ax = plt.subplots(1, 2, figsize=(8, 4))\n",
    "\n",
    "ax[0].imshow(objective_lens, extent=extent_r)\n",
    "ax[0].set_xlabel('reciprocal distance (1/nm)')\n",
    "ax[0].set_xlim(-10,10)\n",
    "ax[0].set_ylim(-10,10)\n",
    "\n",
    "ax[1].imshow(image, extent=[0,nx*pixel_size, ny*pixel_size, 0 ])\n",
    "ax[1].set_xlabel('distance (nm)')"
   ]
  },
  {
   "cell_type": "markdown",
   "metadata": {},
   "source": [
    "## Summary\n",
    "\n",
    "\n",
    "The weak phase object allows for a fast check on image parameters. For a quantitative image simulation we need to do dynamic scattering theory. Please go to the  [Multislice notebook](CH3-multislice.ipynb)\n"
   ]
  },
  {
   "cell_type": "code",
   "execution_count": 20,
   "metadata": {},
   "outputs": [],
   "source": [
    "# Calculating the total 2D potentials for each layer\n",
    "\n",
    "def DefPot2DLayer(PixImageSize, ImageRange, NLayers, MatLattice, UnitCellPot2D, dx):\n",
    "    Mat2D = MatLattice[:2,:2]\n",
    "    Mat2DInv = np.linalg.inv(Mat2D)\n",
    "    dnx = int(round(np.linalg.norm(Mat2D[0])/(dx)))\n",
    "    dny = int(round(np.linalg.norm(Mat2D[0])/(dx)))\n",
    "    nx = np.linspace(0, 1, dnx, endpoint=False)\n",
    "    ny = np.linspace(0, 1, dny, endpoint=False)\n",
    "    \n",
    "    Pot2DLayer = np.array([[[0.  \\\n",
    "        for i in range(PixImageSize[0])] for j in range(PixImageSize[1])]  for k in range(NLayers)])\n",
    "\n",
    "\n",
    "    for i in range(NLayers): # Layers loop\n",
    "        Pot2DInter = interp2d(ny, nx, UnitCellPot2D[i])\n",
    "        for ScanY in range(PixImageSize[1]):\n",
    "            for ScanX in range(PixImageSize[0]):\n",
    "                xi = dx * np.array([ScanX - round(PixImageSize[0]/2.), \\\n",
    "                    ScanY - round(PixImageSize[1]/2.)], dtype=float)\\\n",
    "                    + np.array([ImageRange[0], ImageRange[2]])\n",
    "                ni = np.dot(xi, Mat2DInv)%np.array([1,1])  # Real to Direct within 1 unit cell\n",
    "                Pot2DLayer[i, ScanY, ScanX] = Pot2DInter(ni[1], ni[0])[0]\n",
    "    del Mat2DInv, dnx, dny, nx, ny, i, ScanX, ScanY, xi, ni\n",
    "    return Pot2DLayer\n"
   ]
  },
  {
   "cell_type": "code",
   "execution_count": 31,
   "metadata": {},
   "outputs": [
    {
     "name": "stdout",
     "output_type": "stream",
     "text": [
      "(10, 30, 30)\n"
     ]
    },
    {
     "data": {
      "application/vnd.jupyter.widget-view+json": {
       "model_id": "bf45a49c8fa741329bbb99a54d0bd6cb",
       "version_major": 2,
       "version_minor": 0
      },
      "text/plain": [
       "Canvas(toolbar=Toolbar(toolitems=[('Home', 'Reset original view', 'home', 'home'), ('Back', 'Back to previous …"
      ]
     },
     "metadata": {},
     "output_type": "display_data"
    },
    {
     "data": {
      "text/plain": [
       "<matplotlib.image.AxesImage at 0x1f216ec9820>"
      ]
     },
     "execution_count": 31,
     "metadata": {},
     "output_type": "execute_result"
    }
   ],
   "source": [
    "PixImageSize = [30,30]\n",
    "NLayers = 10\n",
    "Pot2DLayer = np.array([[[0.  \\\n",
    "        for i in range(PixImageSize[0])] for j in range(PixImageSize[1])]  for k in range(NLayers)])\n",
    "print(Pot2DLayer.shape)\n",
    "\n",
    "plt.figure()\n",
    "plt.imshow(Pot2DLayer.sum(axis=0))"
   ]
  },
  {
   "cell_type": "code",
   "execution_count": 22,
   "metadata": {},
   "outputs": [
    {
     "ename": "NameError",
     "evalue": "name 'ScanYsize' is not defined",
     "output_type": "error",
     "traceback": [
      "\u001b[1;31m---------------------------------------------------------------------------\u001b[0m",
      "\u001b[1;31mNameError\u001b[0m                                 Traceback (most recent call last)",
      "\u001b[1;32m<ipython-input-22-672c58567d11>\u001b[0m in \u001b[0;36m<module>\u001b[1;34m\u001b[0m\n\u001b[1;32m----> 1\u001b[1;33m \u001b[1;32mfor\u001b[0m \u001b[0mScanY\u001b[0m \u001b[1;32min\u001b[0m \u001b[0mrange\u001b[0m\u001b[1;33m(\u001b[0m\u001b[0mScanYsize\u001b[0m\u001b[1;33m)\u001b[0m\u001b[1;33m:\u001b[0m\u001b[1;33m\u001b[0m\u001b[1;33m\u001b[0m\u001b[0m\n\u001b[0m\u001b[0;32m      2\u001b[0m     \u001b[0mprint\u001b[0m\u001b[1;33m(\u001b[0m\u001b[1;34m'line: '\u001b[0m\u001b[1;33m,\u001b[0m\u001b[0mScanY\u001b[0m\u001b[1;33m,\u001b[0m\u001b[1;34m' of '\u001b[0m\u001b[1;33m,\u001b[0m\u001b[0mPixImageSize\u001b[0m\u001b[1;33m[\u001b[0m\u001b[1;36m1\u001b[0m\u001b[1;33m]\u001b[0m \u001b[1;33m-\u001b[0m \u001b[0mProSize\u001b[0m\u001b[1;33m)\u001b[0m\u001b[1;33m\u001b[0m\u001b[1;33m\u001b[0m\u001b[0m\n\u001b[0;32m      3\u001b[0m     \u001b[1;32mfor\u001b[0m \u001b[0mScanX\u001b[0m  \u001b[1;32min\u001b[0m \u001b[0mrange\u001b[0m\u001b[1;33m(\u001b[0m\u001b[0mScanXsize\u001b[0m\u001b[1;33m)\u001b[0m\u001b[1;33m:\u001b[0m\u001b[1;33m\u001b[0m\u001b[1;33m\u001b[0m\u001b[0m\n\u001b[0;32m      4\u001b[0m         \u001b[0mPhi_trans\u001b[0m \u001b[1;33m=\u001b[0m \u001b[0mProbe\u001b[0m\u001b[1;33m\u001b[0m\u001b[1;33m\u001b[0m\u001b[0m\n\u001b[0;32m      5\u001b[0m         \u001b[1;32mfor\u001b[0m \u001b[0mNThickness\u001b[0m \u001b[1;32min\u001b[0m \u001b[0mrange\u001b[0m\u001b[1;33m(\u001b[0m\u001b[1;36m1\u001b[0m\u001b[1;33m,\u001b[0m \u001b[0mNLevels\u001b[0m \u001b[1;33m*\u001b[0m \u001b[0mNLayers\u001b[0m\u001b[1;33m+\u001b[0m\u001b[1;36m1\u001b[0m\u001b[1;33m)\u001b[0m\u001b[1;33m:\u001b[0m  \u001b[1;31m# NLevels depending of thickness\u001b[0m\u001b[1;33m\u001b[0m\u001b[1;33m\u001b[0m\u001b[0m\n",
      "\u001b[1;31mNameError\u001b[0m: name 'ScanYsize' is not defined"
     ]
    }
   ],
   "source": [
    "for ScanY in range(ScanYsize):\n",
    "    print('line: ',ScanY,' of ',PixImageSize[1] - ProSize)\n",
    "    for ScanX  in range(ScanXsize):\n",
    "        Phi_trans = Probe\n",
    "        for NThickness in range(1, NLevels * NLayers+1):  # NLevels depending of thickness\n",
    "                if NThickness%(NLayers)  == 0: \n",
    "                        CountLayer = NLayers-1\n",
    "                else:\n",
    "                        CountLayer = NThickness%(NLayers)-1\n",
    "                Phi_trans = Trans2D[CountLayer, ScanY : ProSize + ScanY,\\\n",
    "                                                ScanX :ProSize + ScanX] * Phi_trans # real\n",
    "                Phi_trans = np.fft.fftshift(Phi_trans)\n",
    "                tp1 = fftpack.fft2(Phi_trans) # real to reciprocal\n",
    "                tp1 = fftpack.ifft2(Projector2DK[CountLayer] * tp1) #reciprocal to real\n",
    "                Phi_trans = np.fft.ifftshift(tp1)\n",
    "                #Phi_trans[antialising] = 0."
   ]
  },
  {
   "cell_type": "code",
   "execution_count": 23,
   "metadata": {},
   "outputs": [],
   "source": [
    "def DefPro2DK(ProPixelSize, deltaZ, NLayers, wavl, dk):\n",
    "    Projector2DK = np.array([[[0.  \\\n",
    "           for i in range(ProPixelSize)] for j in range(ProPixelSize)]  for k in range(NLayers)], dtype=complex)\n",
    "\n",
    "    tp1 = np.array([[[-dk*ProPixelSize/2 + dk*i,-dk*ProPixelSize/2 + dk*j]  \\\n",
    "           for i in range(ProPixelSize)] for j in range(ProPixelSize)])\n",
    "    tp2 = np.apply_along_axis(np.linalg.norm, 2, tp1)     \n",
    "    tp1 = tp2 * tp2\n",
    "\n",
    "    for i in range(NLayers):\n",
    "        Projector2DK[i] = np.vectorize(complex)(np.cos(tp1*deltaZ[i]*np.pi*wavl),\\\n",
    "                            np.sin(tp1*deltaZ[i]*np.pi*wavl))\n",
    "    del tp1, tp2\n",
    "    return Projector2DK\n"
   ]
  },
  {
   "cell_type": "code",
   "execution_count": 24,
   "metadata": {},
   "outputs": [
    {
     "name": "stdout",
     "output_type": "stream",
     "text": [
      "[[-0.4 -0.3 -0.2 -0.1  0.   0.1  0.2  0.3]\n",
      " [-0.4 -0.3 -0.2 -0.1  0.   0.1  0.2  0.3]\n",
      " [-0.4 -0.3 -0.2 -0.1  0.   0.1  0.2  0.3]\n",
      " [-0.4 -0.3 -0.2 -0.1  0.   0.1  0.2  0.3]\n",
      " [-0.4 -0.3 -0.2 -0.1  0.   0.1  0.2  0.3]\n",
      " [-0.4 -0.3 -0.2 -0.1  0.   0.1  0.2  0.3]\n",
      " [-0.4 -0.3 -0.2 -0.1  0.   0.1  0.2  0.3]\n",
      " [-0.4 -0.3 -0.2 -0.1  0.   0.1  0.2  0.3]]\n",
      "[[0.56568542 0.5        0.4472136  0.41231056 0.4        0.41231056\n",
      "  0.4472136  0.5       ]\n",
      " [0.5        0.42426407 0.36055513 0.31622777 0.3        0.31622777\n",
      "  0.36055513 0.42426407]\n",
      " [0.4472136  0.36055513 0.28284271 0.2236068  0.2        0.2236068\n",
      "  0.28284271 0.36055513]\n",
      " [0.41231056 0.31622777 0.2236068  0.14142136 0.1        0.14142136\n",
      "  0.2236068  0.31622777]\n",
      " [0.4        0.3        0.2        0.1        0.         0.1\n",
      "  0.2        0.3       ]\n",
      " [0.41231056 0.31622777 0.2236068  0.14142136 0.1        0.14142136\n",
      "  0.2236068  0.31622777]\n",
      " [0.4472136  0.36055513 0.28284271 0.2236068  0.2        0.2236068\n",
      "  0.28284271 0.36055513]\n",
      " [0.5        0.42426407 0.36055513 0.31622777 0.3        0.31622777\n",
      "  0.36055513 0.42426407]]\n"
     ]
    }
   ],
   "source": [
    "ProPixelSize = 8\n",
    "dk = .1\n",
    "tp1 = np.array([[[-dk*ProPixelSize/2 + dk*i,-dk*ProPixelSize/2 + dk*j]  \\\n",
    "           for i in range(ProPixelSize)] for j in range(ProPixelSize)])\n",
    "print(tp1[:,:,0])\n",
    "\n",
    "tp2 = np.apply_along_axis(np.linalg.norm, 2, tp1)  \n",
    "print(tp2)"
   ]
  },
  {
   "cell_type": "code",
   "execution_count": 25,
   "metadata": {},
   "outputs": [],
   "source": [
    "def SimClick(self):\n",
    "        ctags = self.parent.tags['Sim']\n",
    "        sim = ctags\n",
    "\n",
    "        MatLattice = ctags['JCI']['MatLattice']\n",
    "        CoordinatesList = ctags['JCI']['CoordinatesList']\n",
    "        Layers = ctags['JCI']['Layers']\n",
    "        AtomsZLay = ctags['JCI']['AtomsZLay']\n",
    "        NLayers = ctags['JCI']['NLayers']\n",
    "\n",
    "        \n",
    "        \n",
    "        today = time.strftime(\"%Y-%m-%d_%H-%M\")\n",
    "        start = time.time()\n",
    "\n",
    "        # Loading the experiment, checking variable sanity & assigning default values\n",
    "        #OnlyCheck, OnlyProbe, Channeling  = sanitycalculations()\n",
    "        OnlyCheck = sim['OnlyCheck']\n",
    "        OnlyProbe = sim['OnlyProbe']\n",
    "        Channeling = sim['Channeling']\n",
    "\n",
    "\n",
    "        #ApAngle, Detectors, DetShift, V0, aberrations, OAM_value = sanityoptics()\n",
    "        ApAngle = sim['ApAngle']\n",
    "        Detectors = sim['Detectors']\n",
    "        DetShift = sim['DetShift']\n",
    "        V0 = sim['V0']\n",
    "        aberrations = sim['aberrations']\n",
    "        OAM_value = sim['OAM_value']\n",
    "\n",
    "        # Aberrations:\n",
    "        ab = sim['Aberrations']\n",
    "        aberrations[0] = ab['C10']  #,\"\\tDefocus in nm.\")\n",
    "        \n",
    "        aberrations[3] = ab['C12a'] #= aberrations[3]#,\"\\t2-fold astigmatism a direction in nm.\")     \n",
    "        aberrations[4] = ab['C12b'] #= aberrations[4]#,\"\\t2-fold astigmatism b direction in nm.\")\n",
    "        aberrations[5] = ab['C21a'] #= aberrations[5]#,\"\\tComma a direction in nm.\")\n",
    "        aberrations[6] = ab['C21b'] #= aberrations[6]#,\"\\tComma b direction in nm.\")\n",
    "        aberrations[7] = ab['C23a'] #= aberrations[7]#,\"\\t3-fold astigmatism a direction in nm.\")\n",
    "        aberrations[8] = ab['C23b'] #= aberrations[8]#,\"\\t3-fold astigmatism b direction in nm.\")\n",
    "        \n",
    "        aberrations[9] = ab['C30'] #= aberrations[9]#,\"\\tThird order aberration (C_s) in nm.\")\n",
    "        aberrations[10] = ab['C32a'] #= aberrations[10]\n",
    "        aberrations[11] = ab['C32b'] #= aberrations[11]\n",
    "        aberrations[12] = ab['C34a'] #= aberrations[12]\n",
    "        aberrations[13] = ab['C34b'] #= aberrations[13]\n",
    "        \n",
    "        aberrations[14] = ab['C41a'] #= aberrations[14]#,\"\\tFourth order aberration in nm.\")\n",
    "        aberrations[15] = ab['C43a'] #= aberrations[15]\n",
    "        aberrations[16] = ab['C45a'] #= aberrations[16]\n",
    "        aberrations[17] = ab['C50'] #= aberrations[17]#/1000000,\"\\tFifth order aberration in mm.\")\n",
    "        aberrations[18] = ab['C70'] #= aberrations[18]#/1000000,\"\\tSeventh order aberration in mm.\")\n",
    "        \n",
    "                \n",
    "        #FieldofView, ImgPixelsX, ImgPixelsY, Thickness\t= sanityimaging()\n",
    "        FieldofView = sim['FieldofView']\n",
    "        ImgPixelsX = sim['ImgPixelsX']\n",
    "        ImgPixelsY = sim['ImgPixelsY']\n",
    "        Thickness = sim['Thickness']\n",
    "        \n",
    "        #PlotAmpProbe, PlotAngProbe, SaveCell, SaveChaProbe, SavePot, PlotSTEM = sanityoutput()\n",
    "        PlotAmpProbe =sim['PlotAmpProbe']\n",
    "        PlotAngProbe =sim['PlotAngProbe']\n",
    "        SaveCell =sim['SaveCell']\n",
    "        SaveChaProbe = sim['SaveChaProbe']\n",
    "        SavePot = sim['SavePot']\n",
    "        PlotSTEM = sim['PlotSTEM']\n",
    "        \n",
    "        #nmax, MaxOAM, Maxradius, ProPixelSize, PosProbChan, TransVect = sanitymisc()\n",
    "        nmax = sim['nmax']\n",
    "        MaxOAM = sim['MaxOAM']\n",
    "        Maxradius = sim['Maxradius']\n",
    "        ProPixelSize = sim['ProPixelSize']\n",
    "        PosProbChan = sim['PosProbChan']\n",
    "        TransVect = sim['TransVect']\n",
    "        \n",
    "        deltaZ = DefdeltaZ(Layers, MatLattice) # Difference in z between layers\n",
    "\n",
    "        # Calculating the number of levels (i.e. how many times the unit cell repeats in Z)\n",
    "        NLevels = int(Thickness/MatLattice[2,2])\n",
    "        if NLevels == 0:\n",
    "                NLevels = 1\n",
    "\n",
    "        # Defining the variables for the imaging probe: dx, dk, kmax, xmax, dtheta, theta_max\n",
    "        theta_max = 250\n",
    "\n",
    "        # Antialiasing \n",
    "        theta_max = theta_max *3/2\n",
    "        # Defining the wavelength \n",
    "        wavl = lamb(V0)\n",
    "        # Some image variables\n",
    "        kmax = theta_max/(1000 * wavl)\n",
    "        dx = 1 / (2 * kmax)\n",
    "        xmax = ProPixelSize * dx\n",
    "        dk = 1/ xmax\n",
    "        dtheta = 1000 * dk * wavl\n",
    "\n",
    "        printout(today, OnlyCheck, OnlyProbe, Channeling, ApAngle, Detectors, V0, aberrations, OAM_value,\\\n",
    "                MatLattice, CoordinatesList, AtomsZLay, deltaZ, NLevels, Thickness, dx, dk, dtheta,\\\n",
    "                FieldofView, ImgPixelsX, ImgPixelsY, ProPixelSize)\n",
    "        ctags['FieldofView']=FieldofView\n",
    "        ctags['ImgPixelsX']=ImgPixelsX\n",
    "        ctags['ImgPixelsY']=ImgPixelsY\n",
    "        ctags['dx']=dx\n",
    "        ctags['dk']=dk\n",
    "        ctags['dtheta']=dtheta\n",
    "        \n",
    "\n",
    "        if OnlyCheck == False:\n",
    "            print (\"Calculation(s) start now:\")\n",
    "            print ()\n",
    "\n",
    "            mask_antialising = createmask(dtheta, ProPixelSize, max(Detectors), 0, DetShift)\n",
    "\n",
    "            # Generating the probe\n",
    "            print (\"\\tCalculating the electron probe...\")\n",
    "            Probe = createprobe(wavl, dtheta, ApAngle, ProPixelSize, aberrations, OAM_value)\n",
    "            \n",
    "            probe = self.parent.ProbeDialog.probe.calProbe()\n",
    "            ctags['probe2'] = Probe\n",
    "            Probe = probe\n",
    "            \n",
    "            #Probe[mask_antialising] = 0. # Antialiasing the probe\n",
    "            tp1 = np.sum(Probe * np.conjugate(Probe))\n",
    "            Probe = Probe/np.sqrt(tp1)\n",
    "            ctags['Probe'] = Probe\n",
    "            \n",
    "            #Generates a plot of the 2D electron probe intensity & phase (PNG)\n",
    "            plotProbe(Probe, dx, today, OnlyProbe, PlotAmpProbe, PlotAngProbe)\n",
    "\n",
    "            if OnlyProbe == False:\n",
    "\n",
    "                # Defining maximum number of pixels for the potentials and the range of the potentials in nm\n",
    "                # (xmin, xmax, ymin,ymax)\n",
    "                ImageRange, PixImageSize = ImageRange_ImageSize(MatLattice, ProPixelSize, dx)\n",
    "                \n",
    "\n",
    "                if Channeling == True:\n",
    "                        PixImageSize = np.array([ProPixelSize, ProPixelSize])\n",
    "                        tp1 = np.dot(PosProbChan, MatLattice[:2,:2]) # Position probe in real space\n",
    "                        ImageRange = np.array([-dx * ProPixelSize/2. + tp1[0], 0., -dx * ProPixelSize/2. + tp1[1], 0.])\n",
    "\n",
    "                print (\"\\tCalculating the scattering potentials...\")\n",
    "                # Unit cell potential calculated taking into account atoms within up to \"nmax-1\" surrounding cells\n",
    "                # default value is nmax = 2\n",
    "                UnitCellPot2D = DefUnitCellPot2D(CoordinatesList, AtomsZLay, NLayers, MatLattice, dx, nmax)\n",
    "\n",
    "                # Calculating the total 2D potentials, transmission, and projector(k space) for each layer\n",
    "                Pot2DLayer = DefPot2DLayer(PixImageSize, ImageRange, NLayers, MatLattice, UnitCellPot2D, dx)\n",
    "                Trans2D = DefTrans2D(PixImageSize, NLayers, Pot2DLayer, sigma(V0))\n",
    "                Projector2DK = DefPro2DK(ProPixelSize, deltaZ, NLayers, wavl, dk)\n",
    "\n",
    "                for i in range(NLayers): # Masking the Projector2DK for antialising\n",
    "                        Projector2DK[i][mask_antialising] = 0.\n",
    "                        Projector2DK[i] = np.fft.fftshift(Projector2DK[i])\n",
    "\n",
    "                # Calculating the chaneling of the electron probe\n",
    "                if Channeling == True:\n",
    "                        print (\"\\tCalculating the channeling of the e- probe through the sample.\")\n",
    "                        print (\"\\t\\t(This might take some time, so please be patient!)\")\n",
    "                        ChanneledProbe = createchannelling(Probe, Trans2D, Projector2DK, NLevels)\n",
    "                        saveChanneledProbe(ChanneledProbe, today, SaveChaProbe)\n",
    "                        if OAM_value != 0:\n",
    "                                print (\"\\t\\tCalculating the OAM of the e- probe.\")\n",
    "                                print (\"\\t\\t(This might take some time, so please be patient!)\")\n",
    "                                ChanneledProbeOAMChar = oam_evaluator(ChanneledProbe, MaxOAM, Maxradius, dx)\n",
    "                                saveProbeOAMChar(ChanneledProbeOAMChar, today)\n",
    "\n",
    "                # Calculating the STEM images with a multislice method\n",
    "                if Channeling == False:\n",
    "                        print (\"\\tCalculating the STEM images...\")\n",
    "                        print (\"\\t\\t(This might take some time, so please be patient!)\")\n",
    "                        print(dtheta)\n",
    "\n",
    "                        CellSTEMImage,ronchi = multisliceSTEM(Probe, Trans2D, Projector2DK, Detectors, PixImageSize, NLevels, dtheta, DetShift)\n",
    "                        \n",
    "                        ctags['PixImageSize'] = PixImageSize\n",
    "                        ctags['DetShift'] = DetShift\n",
    "\n",
    "                        # Saves  the core STEM images in npy format\n",
    "                        saveCellSTEM(CellSTEMImage, today, SaveCell)\n",
    "                        # Generating the STEM images as requested by the experiment\n",
    "                        print (\"\\tMultislice calculation is over!\")\n",
    "                        print (\"\\tNow pySTEM is generating the STEM images as requested by the experiment\")     \n",
    "                        STEMImages = createSTEMImages(CellSTEMImage, ImageRange, PixImageSize, FieldofView, ImgPixelsX,\\\n",
    "                                                        ImgPixelsY, ProPixelSize, dx, MatLattice, TransVect)\n",
    "                        ctags['ScanXSize'] = CellSTEMImage.shape[1]\n",
    "                        ctags['ScanYSize'] = CellSTEMImage.shape[2]\n",
    "                        ctags['ImageRange'] = ImageRange\n",
    "                        ctags['PixImageSize'] = PixImageSize\n",
    "                        ctags['FieldofView'] = FieldofView\n",
    "                        ctags['ImgPixelsX'] = ImgPixelsX\n",
    "                        ctags['ImgPixelsY'] = ImgPixelsY\n",
    "                        ctags['ProPixelSize'] = ProPixelSize\n",
    "                        ctags['dx'] = dx\n",
    "                        ctags['MatLattice'] = MatLattice\n",
    "                        ctags['TransVect'] = TransVect\n",
    "                        \n",
    "                        # Saving the STEM images in tiff\n",
    "                ctags['STEM Images'] = {}\n",
    "                ctags['Ronchis'] = ronchi.copy()\n",
    "\n",
    "                for i in range(STEMImages.shape[0]):\n",
    "                    ctags['STEM Images'][str(i+1)] = STEMImages[i]\n",
    "\n",
    "                ctags['outimage'] = STEMImages[0]\n",
    "                ctags['image'] = STEMImages[0]\n",
    "                \n",
    "                ctags['pixel_size'] = ctags['FieldofView']/ctags['ImgPixelsX']\n",
    "\n",
    "                self.img.plotImage()\n",
    "                saveSTEM(STEMImages, today, PlotSTEM)\n",
    "        end = time.time()\n",
    "        print ()\n",
    "        print (\"pySTEM is done with the calculation(s).\")\n",
    "        print (\"This experiment took:\", end - start,\"seconds.\")\n",
    "        print (\"Thank you for using pySTEM.  Have a wonderful day!\")\n",
    "        print "
   ]
  },
  {
   "cell_type": "code",
   "execution_count": null,
   "metadata": {},
   "outputs": [],
   "source": []
  }
 ],
 "metadata": {
  "hide_code_all_hidden": false,
  "kernelspec": {
   "display_name": "Python 3",
   "language": "python",
   "name": "python3"
  },
  "language_info": {
   "codemirror_mode": {
    "name": "ipython",
    "version": 3
   },
   "file_extension": ".py",
   "mimetype": "text/x-python",
   "name": "python",
   "nbconvert_exporter": "python",
   "pygments_lexer": "ipython3",
   "version": "3.8.6"
  },
  "toc": {
   "base_numbering": 1,
   "nav_menu": {},
   "number_sections": true,
   "sideBar": true,
   "skip_h1_title": true,
   "title_cell": "Table of Contents",
   "title_sidebar": "Contents",
   "toc_cell": false,
   "toc_position": {
    "height": "calc(100% - 180px)",
    "left": "10px",
    "top": "150px",
    "width": "384px"
   },
   "toc_section_display": true,
   "toc_window_display": true
  },
  "varInspector": {
   "cols": {
    "lenName": 16,
    "lenType": 16,
    "lenVar": 40
   },
   "kernels_config": {
    "python": {
     "delete_cmd_postfix": "",
     "delete_cmd_prefix": "del ",
     "library": "var_list.py",
     "varRefreshCmd": "print(var_dic_list())"
    },
    "r": {
     "delete_cmd_postfix": ") ",
     "delete_cmd_prefix": "rm(",
     "library": "var_list.r",
     "varRefreshCmd": "cat(var_dic_list()) "
    }
   },
   "types_to_exclude": [
    "module",
    "function",
    "builtin_function_or_method",
    "instance",
    "_Feature"
   ],
   "window_display": false
  }
 },
 "nbformat": 4,
 "nbformat_minor": 4
}
